{
  "nbformat": 4,
  "nbformat_minor": 0,
  "metadata": {
    "colab": {
      "name": "Laboratory_work_2_Keras_Tverkaeva.ipynb",
      "provenance": [],
      "collapsed_sections": []
    },
    "kernelspec": {
      "name": "python3",
      "display_name": "Python 3"
    },
    "language_info": {
      "name": "python"
    }
  },
  "cells": [
    {
      "cell_type": "markdown",
      "metadata": {
        "id": "IlbIUlhJwCCv"
      },
      "source": [
        "**Задание:** Используйте Keras для обучения классификатора на сети MNIST с указанием точности"
      ]
    },
    {
      "cell_type": "markdown",
      "metadata": {
        "id": "BEnzc-m87lbS"
      },
      "source": [
        "**Импорт библиотек**"
      ]
    },
    {
      "cell_type": "code",
      "metadata": {
        "id": "1drsmUQRwGLW"
      },
      "source": [
        "# !pip install tensorflow==2.0.0 # Установка TensorFlow версии 2.0\n",
        "# !pip install keras # Установка Keras\n",
        "# !pip uninstall numpy # Удаление NumPy\n",
        "# !pip install numpy==1.16.4 # Установка NumPy версии 1.16.4"
      ],
      "execution_count": null,
      "outputs": []
    },
    {
      "cell_type": "code",
      "metadata": {
        "id": "99HH4VC4Edu2"
      },
      "source": [
        "# Импорт to_categorical для преобразования вектора класса (целые числа) в двоичную матрицу\n",
        "from tensorflow.keras.utils import to_categorical\n",
        "\n",
        "# Импорт Sequential для создания модели\n",
        "from tensorflow.keras.models import Sequential\n",
        "\n",
        "# Импорт Conv2D для создания первого сверточного двухмерного слоя\n",
        "# Импорт Dense для второго сверточного слоя (для выполнения операции активации)\n",
        "# Импорт Flatten для создания слоя, преобразующего двухмерные данные в одномерные\n",
        "from tensorflow.keras.layers import InputLayer, Dense, Flatten\n",
        "# from tensorflow.keras.layers import Conv2D, Dense, Flatten\n",
        "\n",
        "# Импорт библиотеки для построения графиков\n",
        "import matplotlib.pyplot as plt\n",
        "\n",
        "# Импорт датасета MNIST\n",
        "from tensorflow.keras.datasets import mnist"
      ],
      "execution_count": 25,
      "outputs": []
    },
    {
      "cell_type": "markdown",
      "metadata": {
        "id": "zHrFBmwK4J7j"
      },
      "source": [
        "**Работа с данными**"
      ]
    },
    {
      "cell_type": "code",
      "metadata": {
        "id": "kFaF74MH2Vb3"
      },
      "source": [
        "#Загрузка данных\n",
        "# Двухмерный массив с изображениями цифр: x_train (обучающая выборка значений пикселей), x_test (проверяющая выборка значений пикселей)\n",
        "# Массив с проверочными данными: x_test, y_test\n",
        "(x_train, y_train), (x_test, y_test) = mnist.load_data()\n",
        "\n",
        "# Преобразование двухмерного массива в трехмерный(изображение 28х28 пикселей)\n",
        "x_train = x_train.reshape(60000,28,28,1)\n",
        "x_test = x_test.reshape(10000,28,28,1)\n",
        "\n",
        "# Преобразование тестовых данных. To_categorical преобразует вектор класса (целые числа) в двоичную матрицу.\n",
        "y_train = to_categorical(y_train)\n",
        "y_test = to_categorical(y_test)\n",
        "\n",
        "x_train = x_train.astype('float32')/255.\n",
        "x_test = x_test.astype('float32')/255."
      ],
      "execution_count": null,
      "outputs": []
    },
    {
      "cell_type": "code",
      "metadata": {
        "id": "bPS_c-YfbHbH"
      },
      "source": [
        "def plot_accurancy_loss(history):\n",
        "  x = range(len(history.history['accuracy']))\n",
        "\n",
        "  # Построение графиков\n",
        "  plt.title('Точность модели')\n",
        "  plt.plot(x, history.history['accuracy'])\n",
        "  plt.plot(x, history.history['val_accuracy'])\n",
        "  plt.ylabel('Accuracy')\n",
        "  plt.xlabel('Epoch')\n",
        "  plt.legend(['Training Acurancy', 'Test Accurancy'], loc='upper left')\n",
        "  plt.show()\n",
        "\n",
        "  plt.title('Потери модели')\n",
        "  plt.plot(x, history.history['loss'])\n",
        "  plt.plot(x, history.history['val_loss'])\n",
        "  plt.ylabel('Loss')\n",
        "  plt.xlabel('Epoch')\n",
        "  plt.legend(['Training Loss', 'Test Loss'], loc='upper left')\n",
        "  plt.show()"
      ],
      "execution_count": null,
      "outputs": []
    },
    {
      "cell_type": "markdown",
      "metadata": {
        "id": "sp_-Io3jDo76"
      },
      "source": [
        "**Создание модели сети**"
      ]
    },
    {
      "cell_type": "code",
      "metadata": {
        "id": "l-bV3ytRDtHw"
      },
      "source": [
        "model = Sequential()\n",
        "\n",
        "# Добавление первого слоя\n",
        "model.add(InputLayer(input_shape=(28,28,1)))# \n",
        "# слой дл япреобразования в одномерный массив\n",
        "model.add(Flatten())\n",
        "\n",
        "# Добавление второго сверточного слоя\n",
        "# model.add(Conv2D(32, kernel_size=3, activation='relu'))\n",
        "\n",
        "# Добавление вектора для полносвязной сети\n",
        "\n",
        "# Добавление однослойного персептрона\n",
        "model.add(Dense(28*14, activation='sigmoid')) # 10 выходов\n",
        "model.add(Dense(14*14, activation='tanh')) # 10 выходов\n",
        "model.add(Dense(10*10, activation='relu')) # 10 выходов\n",
        "model.add(Dense(10, activation='softmax')) # 10 выходов\n",
        "\n",
        "# Компиляция модели со следующими метркиами:\n",
        "# Adam - метод стохастической оптимизации весов\n",
        "# Categorical_crossentropy - функция потерь (категориальная перекрестная энтропия)\n",
        "# Accuracy - точность (вычисляет, как часто прогнозы совпадают с метками)\n",
        "model.compile(optimizer='adam', loss='categorical_crossentropy', metrics=['accuracy'])"
      ],
      "execution_count": 26,
      "outputs": []
    },
    {
      "cell_type": "markdown",
      "metadata": {
        "id": "ejFzlu0MQ9hg"
      },
      "source": [
        "**Обучение созданной модели**\n"
      ]
    },
    {
      "cell_type": "code",
      "metadata": {
        "colab": {
          "base_uri": "https://localhost:8080/",
          "height": 422
        },
        "id": "esZZGcGcQ83J",
        "outputId": "70fc4e7a-08dd-43f8-868e-6b079526e246"
      },
      "source": [
        "# Функция model.fit() начинает тренировку модели\n",
        "# Epochs - число эпох\n",
        "# Validation_data — проверочные данные\n",
        "# Получение истории обучения\n",
        "history = model.fit(x_train, y_train, validation_data=(x_test, y_test), epochs=5)\n",
        "print(history.history)\n",
        "plot_accurancy_loss(history)"
      ],
      "execution_count": 27,
      "outputs": [
        {
          "output_type": "stream",
          "text": [
            "Train on 60000 samples, validate on 10000 samples\n",
            "Epoch 1/5\n",
            "60000/60000 [==============================] - 18s 297us/sample - loss: 0.4067 - accuracy: 0.8719 - val_loss: 0.3642 - val_accuracy: 0.8845\n",
            "Epoch 2/5\n",
            "60000/60000 [==============================] - 21s 347us/sample - loss: 0.2965 - accuracy: 0.9049 - val_loss: 0.2835 - val_accuracy: 0.9113\n",
            "Epoch 3/5\n",
            "60000/60000 [==============================] - 21s 350us/sample - loss: 0.2620 - accuracy: 0.9154 - val_loss: 0.2514 - val_accuracy: 0.9185\n",
            "Epoch 4/5\n",
            "60000/60000 [==============================] - 20s 337us/sample - loss: 0.2244 - accuracy: 0.9285 - val_loss: 0.2088 - val_accuracy: 0.9329\n",
            "Epoch 5/5\n",
            "60000/60000 [==============================] - 20s 333us/sample - loss: 0.2152 - accuracy: 0.9312 - val_loss: 0.1971 - val_accuracy: 0.9366\n",
            "{'loss': [0.406746992790699, 0.2965198160360257, 0.2619561460847656, 0.22438017998437088, 0.21521364896645148], 'accuracy': [0.8719, 0.9048667, 0.91536665, 0.9284833, 0.93123335], 'val_loss': [0.36417700941562653, 0.2834513490825892, 0.25144136220514773, 0.2088358751192689, 0.1971254132017493], 'val_accuracy': [0.8845, 0.9113, 0.9185, 0.9329, 0.9366]}\n"
          ],
          "name": "stdout"
        },
        {
          "output_type": "error",
          "ename": "NameError",
          "evalue": "ignored",
          "traceback": [
            "\u001b[0;31m---------------------------------------------------------------------------\u001b[0m",
            "\u001b[0;31mNameError\u001b[0m                                 Traceback (most recent call last)",
            "\u001b[0;32m<ipython-input-27-0a3ecceb1249>\u001b[0m in \u001b[0;36m<module>\u001b[0;34m()\u001b[0m\n\u001b[1;32m      5\u001b[0m \u001b[0mhistory\u001b[0m \u001b[0;34m=\u001b[0m \u001b[0mmodel\u001b[0m\u001b[0;34m.\u001b[0m\u001b[0mfit\u001b[0m\u001b[0;34m(\u001b[0m\u001b[0mx_train\u001b[0m\u001b[0;34m,\u001b[0m \u001b[0my_train\u001b[0m\u001b[0;34m,\u001b[0m \u001b[0mvalidation_data\u001b[0m\u001b[0;34m=\u001b[0m\u001b[0;34m(\u001b[0m\u001b[0mx_test\u001b[0m\u001b[0;34m,\u001b[0m \u001b[0my_test\u001b[0m\u001b[0;34m)\u001b[0m\u001b[0;34m,\u001b[0m \u001b[0mepochs\u001b[0m\u001b[0;34m=\u001b[0m\u001b[0;36m5\u001b[0m\u001b[0;34m)\u001b[0m\u001b[0;34m\u001b[0m\u001b[0;34m\u001b[0m\u001b[0m\n\u001b[1;32m      6\u001b[0m \u001b[0mprint\u001b[0m\u001b[0;34m(\u001b[0m\u001b[0mhistory\u001b[0m\u001b[0;34m.\u001b[0m\u001b[0mhistory\u001b[0m\u001b[0;34m)\u001b[0m\u001b[0;34m\u001b[0m\u001b[0;34m\u001b[0m\u001b[0m\n\u001b[0;32m----> 7\u001b[0;31m \u001b[0mplot_accurancy_loss\u001b[0m\u001b[0;34m(\u001b[0m\u001b[0mhistory\u001b[0m\u001b[0;34m)\u001b[0m\u001b[0;34m\u001b[0m\u001b[0;34m\u001b[0m\u001b[0m\n\u001b[0m",
            "\u001b[0;31mNameError\u001b[0m: name 'plot_accurancy_loss' is not defined"
          ]
        }
      ]
    },
    {
      "cell_type": "markdown",
      "metadata": {
        "id": "eSVEqi2NWgdL"
      },
      "source": [
        "**Изменение модели**"
      ]
    },
    {
      "cell_type": "code",
      "metadata": {
        "id": "-h0VV1kTTkMj"
      },
      "source": [
        "model = Sequential()\n",
        "\n",
        "# Добавление первого слоя\n",
        "model.add(InputLayer(input_shape=(28,28,1)))# \n",
        "# слой дл япреобразования в одномерный массив\n",
        "model.add(Flatten())\n",
        "\n",
        "# Добавление второго сверточного слоя\n",
        "# model.add(Conv2D(32, kernel_size=3, activation='relu'))\n",
        "\n",
        "# Добавление вектора для полносвязной сети\n",
        "\n",
        "# Добавление однослойного персептрона\n",
        "model.add(Dense(512, activation='tanh')) # 10 выходов\n",
        "model.add(Dense(128, activation='relu')) # 10 выходов\n",
        "model.add(Dense(10, activation='softmax')) # 10 выходов\n",
        "\n",
        "# Компиляция модели со следующими метркиами:\n",
        "# Adam - метод стохастической оптимизации весов\n",
        "# Categorical_crossentropy - функция потерь (категориальная перекрестная энтропия)\n",
        "# Accuracy - точность (вычисляет, как часто прогнозы совпадают с метками)\n",
        "model.compile(optimizer='adam', loss='categorical_crossentropy', metrics=['accuracy'])"
      ],
      "execution_count": null,
      "outputs": []
    },
    {
      "cell_type": "code",
      "metadata": {
        "id": "dmcqFksjcD92"
      },
      "source": [
        "history = model.fit(x_train, y_train, validation_data=(x_test, y_test), epochs=5)\n",
        "print(history.history)\n",
        "plot_accurancy_loss(history)"
      ],
      "execution_count": null,
      "outputs": []
    },
    {
      "cell_type": "code",
      "metadata": {
        "id": "5BCBYoZ4ddgj"
      },
      "source": [
        "model = Sequential()\n",
        "\n",
        "# Добавление первого слоя\n",
        "model.add(InputLayer(input_shape=(28,28,1)))# \n",
        "# слой дл япреобразования в одномерный массив\n",
        "model.add(Flatten())\n",
        "\n",
        "# Добавление второго сверточного слоя\n",
        "# model.add(Conv2D(32, kernel_size=3, activation='relu'))\n",
        "\n",
        "# Добавление вектора для полносвязной сети\n",
        "\n",
        "# Добавление однослойного персептрона\n",
        "model.add(Dense(400, activation='tanh')) # 10 выходов\n",
        "model.add(Dense(200, activation='sigmoid')) # 10 выходов\n",
        "model.add(Dense(10, activation='softmax')) # 10 выходов\n",
        "\n",
        "# Компиляция модели со следующими метркиами:\n",
        "# Adam - метод стохастической оптимизации весов\n",
        "# Categorical_crossentropy - функция потерь (категориальная перекрестная энтропия)\n",
        "# Accuracy - точность (вычисляет, как часто прогнозы совпадают с метками)\n",
        "model.compile(optimizer='adam', loss='categorical_crossentropy', metrics=['accuracy'])"
      ],
      "execution_count": null,
      "outputs": []
    },
    {
      "cell_type": "code",
      "metadata": {
        "id": "ZTbRQyy2cFlq"
      },
      "source": [
        "history = model.fit(x_train, y_train, validation_data=(x_test, y_test), epochs=5)\n",
        "print(history.history)\n",
        "plot_accurancy_loss(history)"
      ],
      "execution_count": null,
      "outputs": []
    }
  ]
}